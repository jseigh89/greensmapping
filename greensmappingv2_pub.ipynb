{
 "cells": [
  {
   "cell_type": "code",
   "execution_count": null,
   "metadata": {},
   "outputs": [],
   "source": [
    "import random\n",
    "from shapely.geometry import Polygon, Point, MultiPoint\n",
    "import matplotlib.pyplot as plt\n",
    "import pandas as pd\n",
    "import numpy as np\n",
    "from mpl_toolkits.mplot3d import axes3d\n",
    "from matplotlib import cm"
   ]
  },
  {
   "cell_type": "code",
   "execution_count": null,
   "metadata": {},
   "outputs": [],
   "source": [
    "#South Park 9 hole course hole 1\n",
    "p_list = [(40.321854, -79.996663), (40.321823, -79.996694), (40.321793, -79.996705)\n",
    "            , (40.321757, -79.996703), (40.321726, -79.996688), (40.321703, -79.996669)\n",
    "            , (40.321679, -79.996646), (40.321665, -79.996612), (40.321651, -79.996570)\n",
    "            , (40.321644, -79.996539), (40.321649, -79.996498), (40.321662, -79.996465)\n",
    "            , (40.321683, -79.996442), (40.321712, -79.996427), (40.321739, -79.996421)\n",
    "            , (40.321769, -79.996425), (40.321790, -79.996437), (40.321807, -79.996449)\n",
    "            , (40.321829, -79.996468), (40.321843, -79.996489), (40.321858, -79.996516)\n",
    "            , (40.321870, -79.996548), (40.321874, -79.996583), (40.321870, -79.996625)]\n",
    "p = Polygon(p_list)"
   ]
  },
  {
   "cell_type": "code",
   "execution_count": null,
   "metadata": {},
   "outputs": [],
   "source": [
    "#Berkley hole 5\n",
    "p_list = [(40.289288, -78.932620), (40.289309, -78.932644), (40.289337, -78.932660)\n",
    "            , (40.289366, -78.932667), (40.289399, -78.932655), (40.289421, -78.932637)\n",
    "            , (40.289440, -78.932596), (40.289450, -78.932553), (40.289449, -78.932511)\n",
    "            , (40.289441, -78.932459), (40.289433, -78.932427), (40.289412, -78.932389)\n",
    "            , (40.289391, -78.932366), (40.289361, -78.932357), (40.289337, -78.932359)\n",
    "            , (40.289319, -78.932362), (40.289299, -78.932380), (40.289281, -78.932409)\n",
    "            , (40.289268, -78.932426), (40.289261, -78.932452), (40.289254, -78.932486)\n",
    "            , (40.289253, -78.932521), (40.289256, -78.932547), (40.289264, -78.932580)]\n",
    "p = Polygon(p_list)"
   ]
  },
  {
   "cell_type": "code",
   "execution_count": null,
   "metadata": {},
   "outputs": [],
   "source": [
    "xmin, ymin, xmax, ymax = p.bounds  # -4.85674599573635, 37.174925051829, -4.85258684662671, 37.1842384372115\n",
    "n = 3e5\n",
    "x = np.arange(np.floor(xmin * n) / n, np.ceil(xmax * n) / n, 1 / n)  # array([-4.857, -4.856, -4.855, -4.854, -4.853])\n",
    "y = np.arange(np.floor(ymin * n) / n, np.ceil(ymax * n) / n, 1 / n)  # array([37.174, 37.175, 37.176, 37.177, 37.178, 37.179, 37.18 , 37.181, 37.182, 37.183, 37.184, 37.185])\n",
    "points = MultiPoint(np.transpose([np.tile(x, len(y)), np.repeat(y, len(x))]))\n",
    "result = points.intersection(p)"
   ]
  },
  {
   "cell_type": "code",
   "execution_count": null,
   "metadata": {},
   "outputs": [],
   "source": [
    "center_points = []\n",
    "i = 0\n",
    "while i < len(result):\n",
    "    center = [result[i].x,result[i].y]\n",
    "    center_points.append(center)\n",
    "    i += 1"
   ]
  },
  {
   "cell_type": "code",
   "execution_count": null,
   "metadata": {},
   "outputs": [],
   "source": [
    "api_list = p_list + center_points\n",
    "api_df = pd.DataFrame(api_list)\n",
    "api_df.columns = ['longitude','latitude']\n",
    "api_df = api_df.drop_duplicates()"
   ]
  },
  {
   "cell_type": "code",
   "execution_count": null,
   "metadata": {},
   "outputs": [],
   "source": [
    "len(api_list)"
   ]
  },
  {
   "cell_type": "code",
   "execution_count": null,
   "metadata": {},
   "outputs": [],
   "source": [
    "i = 0\n",
    "j = len(api_list)\n",
    "out_list = []\n",
    "while i < j:\n",
    "    print(i,j)\n",
    "    loc_str = ''\n",
    "    api_list_temp = api_list[i:(i+200)]\n",
    "    for a in api_list_temp:\n",
    "        if len(loc_str) == 0:\n",
    "            loc_str = str(a[0]) + ',' + str(a[1])\n",
    "        else:\n",
    "            loc_str = loc_str + '|' + str(a[0]) + ',' + str(a[1])\n",
    "    key = 'keyhere'\n",
    "    url = \"https://maps.googleapis.com/maps/api/elevation/json?locations={}&key={}\".format(loc_str,key)\n",
    "    payload={}\n",
    "    headers = {}\n",
    "    print(len(url))\n",
    "    response = requests.request(\"GET\", url, headers=headers, data=payload)\n",
    "    for attribute, value in response.json().items():\n",
    "        for v in value:\n",
    "            if attribute == 'results':\n",
    "                for key, value in v.items():\n",
    "                    if key == 'elevation':\n",
    "                        elevation = value\n",
    "                    elif key == 'location':\n",
    "                        lat = v.get('location').get('lat')\n",
    "                        lng = v.get('location').get('lng')\n",
    "                temp = [lat,lng,elevation]\n",
    "                out_list.append(temp)\n",
    "    print(len(out_list))\n",
    "    i += 200"
   ]
  },
  {
   "cell_type": "code",
   "execution_count": null,
   "metadata": {},
   "outputs": [],
   "source": [
    "api_df.plot.scatter(x='longitude', y = 'latitude')"
   ]
  },
  {
   "cell_type": "code",
   "execution_count": null,
   "metadata": {},
   "outputs": [],
   "source": [
    "out_list"
   ]
  },
  {
   "cell_type": "code",
   "execution_count": null,
   "metadata": {},
   "outputs": [],
   "source": [
    "api_df = pd.DataFrame(out_list)\n",
    "api_df.columns = ['longitude','latitude','elevation']"
   ]
  },
  {
   "cell_type": "code",
   "execution_count": null,
   "metadata": {},
   "outputs": [],
   "source": [
    "# Get X, Y, Z\n",
    "X, Y, Z = api_df['latitude'], api_df['longitude'], api_df['elevation']\n",
    "\n",
    "# Plot X,Y,Z\n",
    "fig = plt.figure(figsize = (20,20))\n",
    "ax = fig.add_subplot(111, projection='3d')\n",
    "ax.plot_trisurf(X, Y, Z, cmap = 'RdYlGn')\n",
    "ax.set_zlim(api_df['elevation'].min()-5, api_df['elevation'].max() + 5)\n",
    "plt.show()"
   ]
  },
  {
   "cell_type": "code",
   "execution_count": null,
   "metadata": {},
   "outputs": [],
   "source": [
    "print(api_df.to_string())"
   ]
  },
  {
   "cell_type": "code",
   "execution_count": null,
   "metadata": {},
   "outputs": [],
   "source": [
    "print(api_df['elevation'].min() / .3048,api_df['elevation'].min() / .3048 % 1 * 12)"
   ]
  },
  {
   "cell_type": "code",
   "execution_count": null,
   "metadata": {},
   "outputs": [],
   "source": [
    "print(api_df['elevation'].max() / .3048,api_df['elevation'].max() / .3048 % 1 * 12)"
   ]
  },
  {
   "cell_type": "code",
   "execution_count": null,
   "metadata": {},
   "outputs": [],
   "source": []
  }
 ],
 "metadata": {
  "kernelspec": {
   "display_name": "Python 3",
   "language": "python",
   "name": "python3"
  },
  "language_info": {
   "codemirror_mode": {
    "name": "ipython",
    "version": 3
   },
   "file_extension": ".py",
   "mimetype": "text/x-python",
   "name": "python",
   "nbconvert_exporter": "python",
   "pygments_lexer": "ipython3",
   "version": "3.8.5"
  }
 },
 "nbformat": 4,
 "nbformat_minor": 4
}
